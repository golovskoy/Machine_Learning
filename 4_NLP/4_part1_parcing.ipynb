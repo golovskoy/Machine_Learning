{
 "cells": [
  {
   "cell_type": "markdown",
   "id": "c76d1b2c",
   "metadata": {},
   "source": [
    "Цель - собрать текстовые данные и среднее количество просмотров с новостного сайта fontanka.ru."
   ]
  },
  {
   "cell_type": "markdown",
   "id": "e712fb90",
   "metadata": {},
   "source": [
    "# Парсим новости с fontanka.ru"
   ]
  },
  {
   "cell_type": "code",
   "execution_count": 1,
   "id": "932b427f",
   "metadata": {},
   "outputs": [],
   "source": [
    "import requests      # Библиотека для отправки запросов\n",
    "import numpy as np   # Библиотека для матриц, векторов и линала\n",
    "import pandas as pd  # Библиотека для табличек \n",
    "import time          # Библиотека для времени\n",
    "%matplotlib inline\n",
    "from datetime import datetime\n",
    "import matplotlib.pyplot as plt\n",
    "import numpy as np\n",
    "import pandas as pd\n",
    "import json\n",
    "from tqdm import tqdm_notebook\n",
    "from sklearn.metrics import *\n",
    "import warnings\n",
    "warnings.filterwarnings(\"ignore\")"
   ]
  },
  {
   "cell_type": "markdown",
   "id": "b9b6f270",
   "metadata": {},
   "source": [
    "## Делаем пробный запрос"
   ]
  },
  {
   "cell_type": "code",
   "execution_count": 2,
   "id": "4d5372a5",
   "metadata": {},
   "outputs": [],
   "source": [
    "#page_link = 'https://www.fontanka.ru/2022/11/19/71829761/'\n",
    "#page_link = 'https://www.fontanka.ru/2022/11/19/71830307/'\n",
    "page_link = 'https://www.fontanka.ru/2022/11/18/71828858/'"
   ]
  },
  {
   "cell_type": "code",
   "execution_count": 3,
   "id": "89079fe8",
   "metadata": {},
   "outputs": [
    {
     "data": {
      "text/plain": [
       "<Response [200]>"
      ]
     },
     "execution_count": 3,
     "metadata": {},
     "output_type": "execute_result"
    }
   ],
   "source": [
    "response = requests.get(page_link)\n",
    "response"
   ]
  },
  {
   "cell_type": "markdown",
   "id": "dcedeecc",
   "metadata": {},
   "source": [
    "Т.к. response = 200, не нужно использовать useragent."
   ]
  },
  {
   "cell_type": "markdown",
   "id": "1020abb7",
   "metadata": {},
   "source": [
    "html = response.content"
   ]
  },
  {
   "cell_type": "code",
   "execution_count": 5,
   "id": "b6b68087",
   "metadata": {},
   "outputs": [
    {
     "data": {
      "text/plain": [
       "798760"
      ]
     },
     "execution_count": 5,
     "metadata": {},
     "output_type": "execute_result"
    }
   ],
   "source": [
    "len(html)"
   ]
  },
  {
   "cell_type": "code",
   "execution_count": 6,
   "id": "9dd92837",
   "metadata": {},
   "outputs": [],
   "source": [
    "from bs4 import BeautifulSoup\n",
    "soup = BeautifulSoup(html, 'html.parser') # В опции также можно указать lxml, \n",
    "                                         # если предварительно установить одноименный пакет"
   ]
  },
  {
   "cell_type": "code",
   "execution_count": 7,
   "id": "ca7c5334",
   "metadata": {},
   "outputs": [
    {
     "data": {
      "text/plain": [
       "bs4.BeautifulSoup"
      ]
     },
     "execution_count": 7,
     "metadata": {},
     "output_type": "execute_result"
    }
   ],
   "source": [
    "type(soup)"
   ]
  },
  {
   "cell_type": "code",
   "execution_count": 8,
   "id": "e00ddf89",
   "metadata": {},
   "outputs": [
    {
     "name": "stdout",
     "output_type": "stream",
     "text": [
      "<!DOCTYPE html>\n",
      "<html lang=\"ru\">\n",
      " <head>\n",
      "  <meta charset=\"utf-8\"/>\n",
      "  <meta content=\"yes\" name=\"mobile-web-app-capable\"/>\n",
      "  <meta content=\"width=device-width,initial-scale=1,minimum-scale=1,maximum-sca\n"
     ]
    }
   ],
   "source": [
    "print(soup.prettify()[:200])"
   ]
  },
  {
   "cell_type": "markdown",
   "id": "9558b6b1",
   "metadata": {},
   "source": [
    "Вытащим количество просмотров."
   ]
  },
  {
   "cell_type": "code",
   "execution_count": 9,
   "id": "eff91295",
   "metadata": {},
   "outputs": [
    {
     "data": {
      "text/plain": [
       "6316"
      ]
     },
     "execution_count": 9,
     "metadata": {},
     "output_type": "execute_result"
    }
   ],
   "source": [
    "views = soup.find(attrs={'class':'HZacv primaryOverlineMobile'})\n",
    "views = views.text\n",
    "views = pd.to_numeric(views)\n",
    "views"
   ]
  },
  {
   "cell_type": "markdown",
   "id": "8dcd34c3",
   "metadata": {},
   "source": [
    "Вытащим дату публикации объявления и найдем сколько дней назад опубликовано объявление."
   ]
  },
  {
   "cell_type": "code",
   "execution_count": 10,
   "id": "a9c71d27",
   "metadata": {},
   "outputs": [
    {
     "data": {
      "text/plain": [
       "3"
      ]
     },
     "execution_count": 10,
     "metadata": {},
     "output_type": "execute_result"
    }
   ],
   "source": [
    "from datetime import datetime\n",
    "date = soup.find(attrs={'itemprop':'datePublished'})\n",
    "date = date.get('content')\n",
    "date = pd.to_datetime(date, format='%Y-%m-%dT%H:%M:%S')\n",
    "date=date.to_pydatetime()\n",
    "#вытащим день, т.к. все статьи за ноябрь 2022, то месяц не нужен.\n",
    "day = date.strftime(\"%d\")\n",
    "day = pd.to_numeric(day)\n",
    "#найдем текущий день\n",
    "current_day =datetime.now().strftime(\"%d\")\n",
    "current_day = pd.to_numeric(current_day)\n",
    "#посчитаем сколько дней опубликовано объявление\n",
    "days_ago = current_day - day\n",
    "days_ago"
   ]
  },
  {
   "cell_type": "markdown",
   "id": "015b8e60",
   "metadata": {},
   "source": [
    "Найдем количество просмотров в день."
   ]
  },
  {
   "cell_type": "code",
   "execution_count": 11,
   "id": "3ae46839",
   "metadata": {},
   "outputs": [
    {
     "data": {
      "text/plain": [
       "2105.3333333333335"
      ]
     },
     "execution_count": 11,
     "metadata": {},
     "output_type": "execute_result"
    }
   ],
   "source": [
    "views_in_day = views/days_ago\n",
    "views_in_day"
   ]
  },
  {
   "cell_type": "markdown",
   "id": "85cd23a8",
   "metadata": {},
   "source": [
    "Найдем заголовок."
   ]
  },
  {
   "cell_type": "code",
   "execution_count": 12,
   "id": "5483371e",
   "metadata": {},
   "outputs": [
    {
     "data": {
      "text/plain": [
       "'Смольный изменил прогноз по количеству туристов. Иностранцев и круизников пока не ждут'"
      ]
     },
     "execution_count": 12,
     "metadata": {},
     "output_type": "execute_result"
    }
   ],
   "source": [
    "title = soup.find(attrs={'class':'primaryH2HeadlineTablet'})\n",
    "title.text"
   ]
  },
  {
   "cell_type": "markdown",
   "id": "dc5f24f8",
   "metadata": {},
   "source": [
    "Найдем весь текст."
   ]
  },
  {
   "cell_type": "code",
   "execution_count": 13,
   "id": "1981fb5a",
   "metadata": {},
   "outputs": [
    {
     "data": {
      "text/plain": [
       "'Власти Петербурга скорректировали прогнозы по развитию сферы туризма. В 2022 году Северную столицу посетят 6,3 млн человек, говорится в проекте изменений госпрограммы «Развитие сферы туризма в Санкт-Петербурге», опубликованном 18 ноября на портале антикоррупционной экспертизы.В прежней версии программы содержится прогноз турпотока на уровне 5,1 млн человек. Однако ранее губернатор Александр Беглов сообщал, что по итогам 2022 года город может принять более 7 млн туристов. Эта планка будет преодолена, если удастся возобновить турпоток из дружественных стран.Прогноз восстановления круизного турпотока на ближайшие годы исчез. Но в 2025 году Смольный рассчитывает принять 910,9 тыс. гостей. Ранее такого показателя ожидали в 2023 году.'"
      ]
     },
     "execution_count": 13,
     "metadata": {},
     "output_type": "execute_result"
    }
   ],
   "source": [
    "#Найдем все текстовые части статьи. \n",
    "body = soup.find_all(attrs={'class':'G7al ETdx ETal'})\n",
    "#цикл для сложения частей текстов из списка \n",
    "for i in range(len(body)):\n",
    "    text=body[0].text+body[i].text\n",
    "    i += 1\n",
    "text"
   ]
  },
  {
   "cell_type": "markdown",
   "id": "517b25af",
   "metadata": {},
   "source": [
    "## Создадим функцию для сбора информации по списку ссылок"
   ]
  },
  {
   "cell_type": "code",
   "execution_count": 14,
   "id": "915ddd32",
   "metadata": {},
   "outputs": [],
   "source": [
    "#Cоздадим список ссылок\n",
    "link_list =['https://www.fontanka.ru/2022/11/19/71829761/', \n",
    "            'https://www.fontanka.ru/2022/11/19/71830307/',\n",
    "           'https://www.fontanka.ru/2022/11/18/71828858/']"
   ]
  },
  {
   "cell_type": "code",
   "execution_count": 15,
   "id": "39c38a01",
   "metadata": {},
   "outputs": [],
   "source": [
    "def getData(list):\n",
    "    \"\"\"\n",
    "        Запрашивает данные по странице, возвращает обработанный словарь с данными\n",
    "            \n",
    "    \"\"\"\n",
    "    # запрашиваем данные по ссылке\n",
    "    response = requests.get(list)\n",
    "    \n",
    "    if not response.ok:\n",
    "        # если сервер нам отказал, вернем статус ошибки \n",
    "        return response.status_code\n",
    "    \n",
    "    # получаем содержимое страницы и переводим в суп\n",
    "    html = response.content\n",
    "    soup = BeautifulSoup(html,'html.parser')\n",
    "\n",
    "    #Вытащим количество просмотров\n",
    "    views = soup.find(attrs={'class':'HZacv primaryOverlineMobile'})\n",
    "    views = views.text\n",
    "    views = pd.to_numeric(views)\n",
    "    \n",
    "    # Вытащим дату публикации объявления \n",
    "    #и найдем сколько дней назад опубликовано объявление.\n",
    "    date = soup.find(attrs={'itemprop':'datePublished'})\n",
    "    date = date.get('content')\n",
    "    date = pd.to_datetime(date, format='%Y-%m-%dT%H:%M:%S')\n",
    "    date=date.to_pydatetime()\n",
    "    #вытащим день, т.к. все статьи за ноябрь 2022, то месяц не нужен.\n",
    "    day = date.strftime(\"%d\")\n",
    "    day = pd.to_numeric(day)\n",
    "    #найдем текущий день\n",
    "    current_day =datetime.now().strftime(\"%d\")\n",
    "    current_day = pd.to_numeric(current_day)\n",
    "    #посчитаем сколько дней опубликовано объявление\n",
    "    days_ago = current_day - day\n",
    "    #найдем количество просмотров в день\n",
    "    views_in_day = round(views/days_ago, 0)\n",
    "\n",
    "    # найдем загловок\n",
    "    title = soup.find(attrs={'class':'primaryH2HeadlineTablet'})\n",
    "    title = title.text\n",
    "\n",
    "    #Найдем все текстовые части статьи. \n",
    "    body = soup.find_all(attrs={'class':'G7al ETdx ETal'})\n",
    "    #цикл для сложения частей текстов из списка \n",
    "    for i in range(len(body)):\n",
    "        text=body[0].text+body[i].text\n",
    "        i += 1\n",
    "    text\n",
    "\n",
    "    # составляем словарь, в котором будут хранится все полученные и обработанные данные\n",
    "    data_row = {\"title\":title, \"views_in_day\":views_in_day, \n",
    "                \"text\":text}\n",
    "    return data_row"
   ]
  },
  {
   "cell_type": "code",
   "execution_count": 16,
   "id": "c76fb68e",
   "metadata": {},
   "outputs": [],
   "source": [
    "#создадим таблицу с колонками\n",
    "final_df = pd.DataFrame(columns=['title', 'views_in_day', 'text'])"
   ]
  },
  {
   "cell_type": "code",
   "execution_count": 17,
   "id": "65b97c69",
   "metadata": {},
   "outputs": [
    {
     "data": {
      "application/vnd.jupyter.widget-view+json": {
       "model_id": "801a491ca1f446f88bdf11831bbcbf6b",
       "version_major": 2,
       "version_minor": 0
      },
      "text/plain": [
       "  0%|          | 0/3 [00:00<?, ?it/s]"
      ]
     },
     "metadata": {},
     "output_type": "display_data"
    }
   ],
   "source": [
    "#Проходим по списку ссылок циклом создавая датафрейм\n",
    "for link_list in tqdm_notebook(link_list):\n",
    "    try: \n",
    "        data_row = getData(link_list)\n",
    "        final_df = final_df.append(data_row, ignore_index=True)\n",
    "        time.sleep(0.3)\n",
    "    except:\n",
    "        continue"
   ]
  },
  {
   "cell_type": "code",
   "execution_count": 18,
   "id": "4f0ccbaf",
   "metadata": {},
   "outputs": [],
   "source": [
    "#удалим возможные пропуски и дубликаты\n",
    "final_df = final_df.drop_duplicates().dropna(axis = 1)"
   ]
  },
  {
   "cell_type": "code",
   "execution_count": 19,
   "id": "5e8726e7",
   "metadata": {},
   "outputs": [
    {
     "data": {
      "text/plain": [
       "(3, 3)"
      ]
     },
     "execution_count": 19,
     "metadata": {},
     "output_type": "execute_result"
    }
   ],
   "source": [
    "final_df.shape"
   ]
  },
  {
   "cell_type": "code",
   "execution_count": 20,
   "id": "311c3ebe",
   "metadata": {},
   "outputs": [
    {
     "data": {
      "text/html": [
       "<div>\n",
       "<style scoped>\n",
       "    .dataframe tbody tr th:only-of-type {\n",
       "        vertical-align: middle;\n",
       "    }\n",
       "\n",
       "    .dataframe tbody tr th {\n",
       "        vertical-align: top;\n",
       "    }\n",
       "\n",
       "    .dataframe thead th {\n",
       "        text-align: right;\n",
       "    }\n",
       "</style>\n",
       "<table border=\"1\" class=\"dataframe\">\n",
       "  <thead>\n",
       "    <tr style=\"text-align: right;\">\n",
       "      <th></th>\n",
       "      <th>title</th>\n",
       "      <th>views_in_day</th>\n",
       "      <th>text</th>\n",
       "    </tr>\n",
       "  </thead>\n",
       "  <tbody>\n",
       "    <tr>\n",
       "      <th>0</th>\n",
       "      <td>«Фонтанка» показывает, что так громко стреляет в центре Петербурга</td>\n",
       "      <td>55695.0</td>\n",
       "      <td>Читатели «Фонтанки» присылают сообщения о звуках громкой стрельбы, которые слышат в разных районах городах. В субботу, 19 ноября, отмечают День ракетных войск и артиллерии — у Петропавловской крепости проходит мероприятие с участием высоких гостей.Супервидовая камера «Фонтанки» засняла на видео происходящее там.На 12:00 был запланирован салют на Петропавловской крепости. Как сообщают в военном ведомстве, звуки выстрелов могут быть слышны с 10 до 14 часов в субботу.</td>\n",
       "    </tr>\n",
       "    <tr>\n",
       "      <th>1</th>\n",
       "      <td>«Вид на непонятный столб огня, сильнейший гул». Около Мурино огромный пожар</td>\n",
       "      <td>89086.0</td>\n",
       "      <td>Около Мурино, как сообщают читатели «Фонтанки», заметили возгорание. Публикуем фотографии и видео.«Вид на непонятный столб огня, видно, в Мурино. Сильнейший гул», — сообщает очевидец.Губернатор Ленобласти Александр Дрозденко сообщил, что пожар возник из-за взрыва на газопроводе между Бернгардовкой и Ковалево во Всеволожском районе. Подробнее тут.</td>\n",
       "    </tr>\n",
       "    <tr>\n",
       "      <th>2</th>\n",
       "      <td>Смольный изменил прогноз по количеству туристов. Иностранцев и круизников пока не ждут</td>\n",
       "      <td>2108.0</td>\n",
       "      <td>Власти Петербурга скорректировали прогнозы по развитию сферы туризма. В 2022 году Северную столицу посетят 6,3 млн человек, говорится в проекте изменений госпрограммы «Развитие сферы туризма в Санкт-Петербурге», опубликованном 18 ноября на портале антикоррупционной экспертизы.В прежней версии программы содержится прогноз турпотока на уровне 5,1 млн человек. Однако ранее губернатор Александр Беглов сообщал, что по итогам 2022 года город может принять более 7 млн туристов. Эта планка будет преодолена, если удастся возобновить турпоток из дружественных стран.Прогноз восстановления круизного турпотока на ближайшие годы исчез. Но в 2025 году Смольный рассчитывает принять 910,9 тыс. гостей. Ранее такого показателя ожидали в 2023 году.</td>\n",
       "    </tr>\n",
       "  </tbody>\n",
       "</table>\n",
       "</div>"
      ],
      "text/plain": [
       "                                                                                    title  \\\n",
       "0  «Фонтанка» показывает, что так громко стреляет в центре Петербурга                       \n",
       "1  «Вид на непонятный столб огня, сильнейший гул». Около Мурино огромный пожар              \n",
       "2  Смольный изменил прогноз по количеству туристов. Иностранцев и круизников пока не ждут   \n",
       "\n",
       "   views_in_day  \\\n",
       "0  55695.0        \n",
       "1  89086.0        \n",
       "2  2108.0         \n",
       "\n",
       "                                                                                                                                                                                                                                                                                                                                                                                                                                                                                                                                                                                                                                                                                                                                                                 text  \n",
       "0  Читатели «Фонтанки» присылают сообщения о звуках громкой стрельбы, которые слышат в разных районах городах. В субботу, 19 ноября, отмечают День ракетных войск и артиллерии — у Петропавловской крепости проходит мероприятие с участием высоких гостей.Супервидовая камера «Фонтанки» засняла на видео происходящее там.На 12:00 был запланирован салют на Петропавловской крепости. Как сообщают в военном ведомстве, звуки выстрелов могут быть слышны с 10 до 14 часов в субботу.                                                                                                                                                                                                                                                                               \n",
       "1  Около Мурино, как сообщают читатели «Фонтанки», заметили возгорание. Публикуем фотографии и видео.«Вид на непонятный столб огня, видно, в Мурино. Сильнейший гул», — сообщает очевидец.Губернатор Ленобласти Александр Дрозденко сообщил, что пожар возник из-за взрыва на газопроводе между Бернгардовкой и Ковалево во Всеволожском районе. Подробнее тут.                                                                                                                                                                                                                                                                                                                                                                                                        \n",
       "2  Власти Петербурга скорректировали прогнозы по развитию сферы туризма. В 2022 году Северную столицу посетят 6,3 млн человек, говорится в проекте изменений госпрограммы «Развитие сферы туризма в Санкт-Петербурге», опубликованном 18 ноября на портале антикоррупционной экспертизы.В прежней версии программы содержится прогноз турпотока на уровне 5,1 млн человек. Однако ранее губернатор Александр Беглов сообщал, что по итогам 2022 года город может принять более 7 млн туристов. Эта планка будет преодолена, если удастся возобновить турпоток из дружественных стран.Прогноз восстановления круизного турпотока на ближайшие годы исчез. Но в 2025 году Смольный рассчитывает принять 910,9 тыс. гостей. Ранее такого показателя ожидали в 2023 году.  "
      ]
     },
     "execution_count": 20,
     "metadata": {},
     "output_type": "execute_result"
    }
   ],
   "source": [
    "pd.set_option('display.max_rows', None)\n",
    "pd.set_option('display.max_columns', None)\n",
    "pd.set_option('display.width', None)\n",
    "pd.set_option('display.max_colwidth', -1)\n",
    "final_df"
   ]
  },
  {
   "cell_type": "markdown",
   "id": "9f5189d9",
   "metadata": {},
   "source": [
    "**Вывод:** Получены название новости, количество просмотров каждой новости в день и собраны текстовые поля для каждой новости (сбор полей был необходим, т.к. зачастую они разделены изображениями или видео)."
   ]
  },
  {
   "cell_type": "code",
   "execution_count": null,
   "id": "a3a21857",
   "metadata": {},
   "outputs": [],
   "source": []
  }
 ],
 "metadata": {
  "kernelspec": {
   "display_name": "Python 3",
   "language": "python",
   "name": "python3"
  },
  "language_info": {
   "codemirror_mode": {
    "name": "ipython",
    "version": 3
   },
   "file_extension": ".py",
   "mimetype": "text/x-python",
   "name": "python",
   "nbconvert_exporter": "python",
   "pygments_lexer": "ipython3",
   "version": "3.8.8"
  },
  "toc": {
   "base_numbering": 1,
   "nav_menu": {},
   "number_sections": true,
   "sideBar": true,
   "skip_h1_title": false,
   "title_cell": "Table of Contents",
   "title_sidebar": "Contents",
   "toc_cell": false,
   "toc_position": {
    "height": "calc(100% - 180px)",
    "left": "10px",
    "top": "150px",
    "width": "197.275px"
   },
   "toc_section_display": true,
   "toc_window_display": true
  }
 },
 "nbformat": 4,
 "nbformat_minor": 5
}
